{
 "cells": [
  {
   "cell_type": "code",
   "execution_count": null,
   "id": "8f2ca968",
   "metadata": {
    "scrolled": false
   },
   "outputs": [],
   "source": [
    "import os\n",
    "import sys\n",
    "sys.path.append(\"..\")\n",
    "\n",
    "from MSML.src import (load_from_json, create_action_chains_graph, write_out_boundary_actions,\n",
    "                      write_out_policies, write_out_mechanisms, load_svg_graphviz,\n",
    "                      write_basic_report_full, write_action_chain_reports)\n",
    "from IPython.display import display, display_html\n",
    "from copy import deepcopy\n",
    "from src import math_spec_json\n",
    "ms = load_from_json(deepcopy(math_spec_json))\n",
    "\n",
    "for behavior in [\"Servicer Pause\"]:\n",
    "    display(create_action_chains_graph(ms, [behavior], behavior))"
   ]
  },
  {
   "cell_type": "code",
   "execution_count": null,
   "id": "13c35b14",
   "metadata": {},
   "outputs": [],
   "source": [
    "for behavior in [\"Servicer Stake\", \"Servicer Pause\", \"Servicer Unpause\", \"Assign Servicer Salary\",\n",
    "                \"Servicer Unstake\", \"Application Stake\", \"Application Unstake\", \"Application Delegate to Portal\"]:\n",
    "    display(create_action_chains_graph(ms, [behavior], behavior))"
   ]
  },
  {
   "cell_type": "code",
   "execution_count": null,
   "id": "ed613a0e",
   "metadata": {
    "scrolled": false
   },
   "outputs": [],
   "source": [
    "write_action_chain_reports(ms, \"reports/actions\", [\"Servicer Stake\", \"Application Stake\", \"Servicer Pause\"])\n",
    "write_basic_report_full(ms, \"reports\", \"Basic Report\")"
   ]
  },
  {
   "cell_type": "code",
   "execution_count": null,
   "id": "7135b29a",
   "metadata": {},
   "outputs": [],
   "source": []
  }
 ],
 "metadata": {
  "kernelspec": {
   "display_name": "Python 3 (ipykernel)",
   "language": "python",
   "name": "python3"
  },
  "language_info": {
   "codemirror_mode": {
    "name": "ipython",
    "version": 3
   },
   "file_extension": ".py",
   "mimetype": "text/x-python",
   "name": "python",
   "nbconvert_exporter": "python",
   "pygments_lexer": "ipython3",
   "version": "3.9.12"
  }
 },
 "nbformat": 4,
 "nbformat_minor": 5
}
